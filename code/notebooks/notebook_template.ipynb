{
 "cells": [
  {
   "cell_type": "markdown",
   "id": "2e7ab80d-4295-4b71-8be0-bf5e7100675a",
   "metadata": {},
   "source": [
    "# project name \n"
   ]
  },
  {
   "cell_type": "markdown",
   "id": "8f7ffa53-0ea3-4150-b8a1-6fd13ee14961",
   "metadata": {},
   "source": [
    "author\n",
    "last modified\n",
    "\n",
    "description\n",
    "\n"
   ]
  },
  {
   "cell_type": "markdown",
   "id": "34bd06ea-3de6-40fc-804f-0b29bd9354ab",
   "metadata": {},
   "source": [
    "<br>"
   ]
  },
  {
   "cell_type": "markdown",
   "id": "2d818207-72bb-4f19-a2ff-6cbd11b4e5ed",
   "metadata": {},
   "source": [
    "import libraries"
   ]
  },
  {
   "cell_type": "markdown",
   "id": "daa00553-1c1c-41a7-8626-7ff527c09064",
   "metadata": {},
   "source": [
    "Load data"
   ]
  },
  {
   "cell_type": "markdown",
   "id": "c2a2901a-3b95-4c24-8866-fb47e1dbd0a7",
   "metadata": {},
   "source": [
    "# code to read csv file"
   ]
  }
 ],
 "metadata": {
  "kernelspec": {
   "display_name": "Python 3 (ipykernel)",
   "language": "python",
   "name": "python3"
  },
  "language_info": {
   "codemirror_mode": {
    "name": "ipython",
    "version": 3
   },
   "file_extension": ".py",
   "mimetype": "text/x-python",
   "name": "python",
   "nbconvert_exporter": "python",
   "pygments_lexer": "ipython3",
   "version": "3.12.3"
  }
 },
 "nbformat": 4,
 "nbformat_minor": 5
}
